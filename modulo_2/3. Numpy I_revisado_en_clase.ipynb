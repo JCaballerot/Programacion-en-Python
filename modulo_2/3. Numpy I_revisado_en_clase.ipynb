{
  "nbformat": 4,
  "nbformat_minor": 0,
  "metadata": {
    "colab": {
      "provenance": [],
      "authorship_tag": "ABX9TyNr0h7IvJJDtIYZJ5DnPLSp",
      "include_colab_link": true
    },
    "kernelspec": {
      "name": "python3",
      "display_name": "Python 3"
    },
    "language_info": {
      "name": "python"
    }
  },
  "cells": [
    {
      "cell_type": "markdown",
      "metadata": {
        "id": "view-in-github",
        "colab_type": "text"
      },
      "source": [
        "<a href=\"https://colab.research.google.com/github/JCaballerot/Programacion-en-Python/blob/main/modulo_2/3.%20Numpy%20I_revisado_en_clase.ipynb\" target=\"_parent\"><img src=\"https://colab.research.google.com/assets/colab-badge.svg\" alt=\"Open In Colab\"/></a>"
      ]
    },
    {
      "cell_type": "markdown",
      "source": [
        "<img src=\"https://www.ctic.uni.edu.pe/wp-content/uploads/2022/04/588px-x-348px-web-1.png\" alt=\"HTML5 Icon\" width=\"900\" height=\"350\" >"
      ],
      "metadata": {
        "id": "E_ZHW3fmVS4E"
      }
    },
    {
      "cell_type": "markdown",
      "source": [
        "<h1 align=center><font size = 5> Numpy - Parte I\n",
        "</font></h1>\n",
        "\n",
        "---"
      ],
      "metadata": {
        "id": "11DUCa4NVXVE"
      }
    },
    {
      "cell_type": "markdown",
      "source": [
        "## Tabla de Contenidos\n",
        "\n",
        "<div class=\"alert alert-block alert-info\" style=\"margin-top: 20px\">\n",
        "\n",
        "<font size = 3>\n",
        "    \n",
        "1. <a href=\"#item31\">Trabajando con arrays </a>\n",
        "2. <a href=\"#item31\">Algebra Matricial con arrays</a>  \n",
        "\n",
        "</font>\n",
        "</div>\n",
        "\n",
        "---"
      ],
      "metadata": {
        "id": "y0BfNj-RyguL"
      }
    },
    {
      "cell_type": "markdown",
      "source": [
        "# 1. Trabajando con Arrays "
      ],
      "metadata": {
        "id": "fY5fHyw61UB5"
      }
    },
    {
      "cell_type": "code",
      "source": [
        "import numpy as np"
      ],
      "metadata": {
        "id": "lxq5w0k_Zodd"
      },
      "execution_count": 1,
      "outputs": []
    },
    {
      "cell_type": "code",
      "source": [
        "#importando numpy\n",
        "import numpy as np"
      ],
      "metadata": {
        "id": "f1NmzUpsUrcj"
      },
      "execution_count": null,
      "outputs": []
    },
    {
      "cell_type": "code",
      "source": [
        "type(np.array([30, 25, 33, 24, 28, 32]))\n",
        "\n",
        "\n"
      ],
      "metadata": {
        "id": "NgUkhSOWZxm6",
        "outputId": "1174dc86-9069-4caf-8675-0c3052c21d40",
        "colab": {
          "base_uri": "https://localhost:8080/"
        }
      },
      "execution_count": null,
      "outputs": [
        {
          "output_type": "execute_result",
          "data": {
            "text/plain": [
              "numpy.ndarray"
            ]
          },
          "metadata": {},
          "execution_count": 15
        }
      ]
    },
    {
      "cell_type": "code",
      "source": [
        "np.array(['john', 'marco', 'diego'])"
      ],
      "metadata": {
        "id": "hVGB7B5KakJd",
        "outputId": "e4c7793b-2b6c-47a5-8c9e-d13b566953cb",
        "colab": {
          "base_uri": "https://localhost:8080/"
        }
      },
      "execution_count": null,
      "outputs": [
        {
          "output_type": "execute_result",
          "data": {
            "text/plain": [
              "array(['john', 'marco', 'diego'], dtype='<U5')"
            ]
          },
          "metadata": {},
          "execution_count": 18
        }
      ]
    },
    {
      "cell_type": "code",
      "source": [
        "np.array([30, 25, 33, 24, 28, 32])"
      ],
      "metadata": {
        "id": "I5_dLemGawx0",
        "outputId": "066a19f1-d814-42b5-c896-c41e0c437ec1",
        "colab": {
          "base_uri": "https://localhost:8080/"
        }
      },
      "execution_count": null,
      "outputs": [
        {
          "output_type": "execute_result",
          "data": {
            "text/plain": [
              "array([30, 25, 33, 24, 28, 32])"
            ]
          },
          "metadata": {},
          "execution_count": 20
        }
      ]
    },
    {
      "cell_type": "code",
      "source": [
        "np.array([30, 25, 33, 24, 28, 32],\n",
        "         [ 8,  3, 10,  1,  5,  9])"
      ],
      "metadata": {
        "id": "oknnQMTFabAG",
        "outputId": "97e175b6-4906-4939-e405-7c9b41de39f7",
        "colab": {
          "base_uri": "https://localhost:8080/",
          "height": 184
        }
      },
      "execution_count": null,
      "outputs": [
        {
          "output_type": "error",
          "ename": "TypeError",
          "evalue": "ignored",
          "traceback": [
            "\u001b[0;31m---------------------------------------------------------------------------\u001b[0m",
            "\u001b[0;31mTypeError\u001b[0m                                 Traceback (most recent call last)",
            "\u001b[0;32m<ipython-input-21-6444bf482625>\u001b[0m in \u001b[0;36m<cell line: 1>\u001b[0;34m()\u001b[0m\n\u001b[0;32m----> 1\u001b[0;31m np.array([30, 25, 33, 24, 28, 32],\n\u001b[0m\u001b[1;32m      2\u001b[0m          [8, 3, 10, 1, 5, 9])\n",
            "\u001b[0;31mTypeError\u001b[0m: Field elements must be 2- or 3-tuples, got '8'"
          ]
        }
      ]
    },
    {
      "cell_type": "code",
      "source": [
        "a = np.array([[30, 25, 33, 24, 28, 38],\n",
        "\n",
        "              [ 8,  3, 10,  1,  5,  9]])\n"
      ],
      "metadata": {
        "id": "DXXKYBvdbdS-"
      },
      "execution_count": null,
      "outputs": []
    },
    {
      "cell_type": "code",
      "source": [
        "a"
      ],
      "metadata": {
        "id": "ssoiQjGMb-c1",
        "outputId": "93e79756-6ade-4eaf-fecd-8d787da18d36",
        "colab": {
          "base_uri": "https://localhost:8080/"
        }
      },
      "execution_count": null,
      "outputs": [
        {
          "output_type": "execute_result",
          "data": {
            "text/plain": [
              "array([list([30, 25, 33, 24, 28]), list([8, 3, 10, 1, 5, 9])],\n",
              "      dtype=object)"
            ]
          },
          "metadata": {},
          "execution_count": 26
        }
      ]
    },
    {
      "cell_type": "code",
      "source": [
        "a = np.array([[[30, 25, 33, 24, 28, 38],\n",
        "               [ 8,  3, 10,  1,  5,  9],\n",
        "               [ 5,  6,  5,  7,  5,  4]], \n",
        "              [[30, 25, 33, 24, 28, 38],\n",
        "               [ 8,  3, 10,  1,  5,  9],\n",
        "               [ 5,  6,  5,  7,  5,  4]]])\n"
      ],
      "metadata": {
        "id": "ycw96biNbkj0"
      },
      "execution_count": null,
      "outputs": []
    },
    {
      "cell_type": "code",
      "source": [
        "a = np.array([[[[1, 2, 3, 4,  5],\n",
        "                [3, 4, 6, 8, 10],\n",
        "                [1, 2, 3, 4,  5],\n",
        "                [3, 4, 6, 8, 10],\n",
        "                [6, 7, 8, 10, 2]],\n",
        "              \n",
        "               [[1, 2, 3, 4,  5],\n",
        "                [3, 4, 6, 8, 10],\n",
        "                [1, 2, 3, 4,  5],\n",
        "                [3, 4, 6, 8, 10],\n",
        "                [6, 7, 8, 10, 2]],\n",
        "              \n",
        "               [[1, 2, 3, 4,  5],\n",
        "                [3, 4, 6, 8, 10],\n",
        "                [1, 2, 3, 4,  5],\n",
        "                [3, 4, 6, 8, 10],\n",
        "                [6, 7, 8, 10, 2]],\n",
        "              \n",
        "               [[1, 2, 3, 4,  5],\n",
        "                [3, 4, 6, 8, 10],\n",
        "                [1, 2, 3, 4,  5],\n",
        "                [3, 4, 6, 8, 10],\n",
        "                [6, 7, 8, 10, 2]],\n",
        "              \n",
        "               [[1, 2, 3, 4,  5],\n",
        "                [3, 4, 6, 8, 10],\n",
        "                [1, 2, 3, 4,  5],\n",
        "                [3, 4, 6, 8, 10],\n",
        "                [6, 7, 8, 10, 2]]]])\n",
        "\n",
        "\n",
        "\n",
        "print(a)"
      ],
      "metadata": {
        "id": "gRiUJJzfc_-4",
        "outputId": "5211adb7-4343-49c6-e440-7d829632df9a",
        "colab": {
          "base_uri": "https://localhost:8080/"
        }
      },
      "execution_count": 8,
      "outputs": [
        {
          "output_type": "stream",
          "name": "stdout",
          "text": [
            "[[[[ 1  2  3  4  5]\n",
            "   [ 3  4  6  8 10]\n",
            "   [ 1  2  3  4  5]\n",
            "   [ 3  4  6  8 10]\n",
            "   [ 6  7  8 10  2]]\n",
            "\n",
            "  [[ 1  2  3  4  5]\n",
            "   [ 3  4  6  8 10]\n",
            "   [ 1  2  3  4  5]\n",
            "   [ 3  4  6  8 10]\n",
            "   [ 6  7  8 10  2]]\n",
            "\n",
            "  [[ 1  2  3  4  5]\n",
            "   [ 3  4  6  8 10]\n",
            "   [ 1  2  3  4  5]\n",
            "   [ 3  4  6  8 10]\n",
            "   [ 6  7  8 10  2]]\n",
            "\n",
            "  [[ 1  2  3  4  5]\n",
            "   [ 3  4  6  8 10]\n",
            "   [ 1  2  3  4  5]\n",
            "   [ 3  4  6  8 10]\n",
            "   [ 6  7  8 10  2]]\n",
            "\n",
            "  [[ 1  2  3  4  5]\n",
            "   [ 3  4  6  8 10]\n",
            "   [ 1  2  3  4  5]\n",
            "   [ 3  4  6  8 10]\n",
            "   [ 6  7  8 10  2]]]]\n"
          ]
        }
      ]
    },
    {
      "cell_type": "code",
      "source": [
        "# Array de una dimensión\n",
        "a1 = np.array([1, 2, 3])\n",
        "print(a1)"
      ],
      "metadata": {
        "id": "SiPNzB73APBU"
      },
      "execution_count": null,
      "outputs": []
    },
    {
      "cell_type": "code",
      "execution_count": null,
      "metadata": {
        "id": "A2OxEnshtGJD"
      },
      "outputs": [],
      "source": [
        "# Array de dos dimensiones\n",
        "a2 = np.array([[1, 2, 3], [4, 5, 6]])\n",
        "print(a2)"
      ]
    },
    {
      "cell_type": "code",
      "source": [
        "# Array de tres dimensiones\n",
        "a3 = np.array([[[1, 2, 3], [4, 5, 6]], [[7, 8, 9], [10, 11, 12]]])\n",
        "print(a3)"
      ],
      "metadata": {
        "id": "BusmC4LB1gI8"
      },
      "execution_count": null,
      "outputs": []
    },
    {
      "cell_type": "markdown",
      "source": [
        "### Otras formas de crear arrays"
      ],
      "metadata": {
        "id": "VcV6mD36V0Ip"
      }
    },
    {
      "cell_type": "code",
      "source": [
        "np.zeros((2, 2))"
      ],
      "metadata": {
        "id": "v4lFhW1sbg_2"
      },
      "execution_count": null,
      "outputs": []
    },
    {
      "cell_type": "code",
      "source": [
        "np.zeros((2, 2))"
      ],
      "metadata": {
        "id": "GdaHfsjpPtTB",
        "outputId": "68d50706-2ca8-4305-81d2-08679eb8d21f",
        "colab": {
          "base_uri": "https://localhost:8080/"
        }
      },
      "execution_count": 19,
      "outputs": [
        {
          "output_type": "execute_result",
          "data": {
            "text/plain": [
              "array([[0., 0.],\n",
              "       [0., 0.]])"
            ]
          },
          "metadata": {},
          "execution_count": 19
        }
      ]
    },
    {
      "cell_type": "code",
      "source": [
        "np.ones((3, 3))"
      ],
      "metadata": {
        "id": "pz_NpJO6brs0",
        "outputId": "b0057b44-71bc-42c4-d350-b2bf37bebd95",
        "colab": {
          "base_uri": "https://localhost:8080/"
        }
      },
      "execution_count": 21,
      "outputs": [
        {
          "output_type": "execute_result",
          "data": {
            "text/plain": [
              "array([[1., 1., 1.],\n",
              "       [1., 1., 1.],\n",
              "       [1., 1., 1.]])"
            ]
          },
          "metadata": {},
          "execution_count": 21
        }
      ]
    },
    {
      "cell_type": "code",
      "source": [
        "np.full((3, 3), 99)"
      ],
      "metadata": {
        "id": "7jt7YHcmAahG",
        "outputId": "f7d471b5-3634-4b6e-ee67-51e434043d19",
        "colab": {
          "base_uri": "https://localhost:8080/"
        }
      },
      "execution_count": 22,
      "outputs": [
        {
          "output_type": "execute_result",
          "data": {
            "text/plain": [
              "array([[99, 99, 99],\n",
              "       [99, 99, 99],\n",
              "       [99, 99, 99]])"
            ]
          },
          "metadata": {},
          "execution_count": 22
        }
      ]
    },
    {
      "cell_type": "code",
      "source": [
        "\n",
        "np.identity(5)\n"
      ],
      "metadata": {
        "id": "0ufNgmA_b0M4",
        "outputId": "826fef77-d918-41a4-82dc-018cb39db3ee",
        "colab": {
          "base_uri": "https://localhost:8080/"
        }
      },
      "execution_count": 24,
      "outputs": [
        {
          "output_type": "execute_result",
          "data": {
            "text/plain": [
              "array([[1., 0., 0., 0., 0.],\n",
              "       [0., 1., 0., 0., 0.],\n",
              "       [0., 0., 1., 0., 0.],\n",
              "       [0., 0., 0., 1., 0.],\n",
              "       [0., 0., 0., 0., 1.]])"
            ]
          },
          "metadata": {},
          "execution_count": 24
        }
      ]
    },
    {
      "cell_type": "code",
      "source": [
        "np.arange(1, 15 + 1, 3)"
      ],
      "metadata": {
        "id": "0ZhBiYJuAfJB",
        "outputId": "d7e5d4e1-29fc-499f-cb8d-34a331b5ae6b",
        "colab": {
          "base_uri": "https://localhost:8080/"
        }
      },
      "execution_count": 28,
      "outputs": [
        {
          "output_type": "execute_result",
          "data": {
            "text/plain": [
              "array([ 1,  2,  3,  4,  5,  6,  7,  8,  9, 10, 11, 12, 13, 14, 15])"
            ]
          },
          "metadata": {},
          "execution_count": 28
        }
      ]
    },
    {
      "cell_type": "code",
      "source": [
        "np.arange(1, 15 + 1)"
      ],
      "metadata": {
        "id": "vfOEiLL8SIbE",
        "outputId": "66539eb8-ce29-4160-c8bd-e81f8c3d3168",
        "colab": {
          "base_uri": "https://localhost:8080/"
        }
      },
      "execution_count": 29,
      "outputs": [
        {
          "output_type": "execute_result",
          "data": {
            "text/plain": [
              "array([ 1,  2,  3,  4,  5,  6,  7,  8,  9, 10, 11, 12, 13, 14, 15])"
            ]
          },
          "metadata": {},
          "execution_count": 29
        }
      ]
    },
    {
      "cell_type": "code",
      "source": [
        "# linspace(start, end, n) genera n valores entre el valor start y el valor end\n",
        "np.linspace(1, 10, 5)\n"
      ],
      "metadata": {
        "id": "Gd335gxCAjGa",
        "outputId": "f7b469a2-a47c-4f3c-8e23-8515b460d416",
        "colab": {
          "base_uri": "https://localhost:8080/"
        }
      },
      "execution_count": 39,
      "outputs": [
        {
          "output_type": "execute_result",
          "data": {
            "text/plain": [
              "array([ 1.  ,  3.25,  5.5 ,  7.75, 10.  ])"
            ]
          },
          "metadata": {},
          "execution_count": 39
        }
      ]
    },
    {
      "cell_type": "code",
      "source": [
        "np.random.random?"
      ],
      "metadata": {
        "id": "RGTNCsl_TN5R"
      },
      "execution_count": 50,
      "outputs": []
    },
    {
      "cell_type": "code",
      "source": [
        "np.random.random((3, 3)) "
      ],
      "metadata": {
        "id": "H5yuZdfkXMym",
        "outputId": "be8bf81e-ff90-4d57-ce80-35b85dc74069",
        "colab": {
          "base_uri": "https://localhost:8080/"
        }
      },
      "execution_count": 49,
      "outputs": [
        {
          "output_type": "execute_result",
          "data": {
            "text/plain": [
              "array([[0.06722171, 0.41097194, 0.71345247],\n",
              "       [0.55150496, 0.13919446, 0.06107904],\n",
              "       [0.92904352, 0.12965094, 0.51380023]])"
            ]
          },
          "metadata": {},
          "execution_count": 49
        }
      ]
    },
    {
      "cell_type": "code",
      "source": [
        "np.random.randint(99)"
      ],
      "metadata": {
        "id": "5HidwS2hT1zY",
        "outputId": "82d75eee-bdac-4ad7-eaeb-7d925037975e",
        "colab": {
          "base_uri": "https://localhost:8080/"
        }
      },
      "execution_count": 53,
      "outputs": [
        {
          "output_type": "execute_result",
          "data": {
            "text/plain": [
              "47"
            ]
          },
          "metadata": {},
          "execution_count": 53
        }
      ]
    },
    {
      "cell_type": "code",
      "source": [
        "np.array([np.random.randint(100) for x in range(0,5)])"
      ],
      "metadata": {
        "id": "OVzhHVpPUR5N",
        "outputId": "08d9c5c5-9f49-41e8-885e-0e05c04b1a34",
        "colab": {
          "base_uri": "https://localhost:8080/"
        }
      },
      "execution_count": 55,
      "outputs": [
        {
          "output_type": "execute_result",
          "data": {
            "text/plain": [
              "array([35, 13,  8, 89, 99])"
            ]
          },
          "metadata": {},
          "execution_count": 55
        }
      ]
    },
    {
      "cell_type": "markdown",
      "source": [
        "### Atributos de un array"
      ],
      "metadata": {
        "id": "0GbfBGic15oY"
      }
    },
    {
      "cell_type": "code",
      "source": [
        "#Devuelve el número de dimensiones del array\n",
        "a.ndim "
      ],
      "metadata": {
        "id": "p4DArzqhCKco"
      },
      "execution_count": null,
      "outputs": []
    },
    {
      "cell_type": "code",
      "source": [
        "#Devuelve una tupla con las dimensiones del array\n",
        "a.shape"
      ],
      "metadata": {
        "id": "ndoPuCOaXhuC"
      },
      "execution_count": null,
      "outputs": []
    },
    {
      "cell_type": "code",
      "source": [
        "#Devuelve el número de elementos del array\n",
        "a.size"
      ],
      "metadata": {
        "id": "76MmfeABXj9I"
      },
      "execution_count": null,
      "outputs": []
    },
    {
      "cell_type": "code",
      "source": [
        "#Devuelve el tipo de datos de los elementos del array\n",
        "a.dtype"
      ],
      "metadata": {
        "id": "iojpwYpIXqvp"
      },
      "execution_count": null,
      "outputs": []
    },
    {
      "cell_type": "markdown",
      "source": [
        "### Acceder a elementos del array"
      ],
      "metadata": {
        "id": "b3Y8iK2rYUNk"
      }
    },
    {
      "cell_type": "code",
      "source": [
        "a = np.array([[1, 2, 3], [4, 5, 6]])\n",
        "print(a[1, 0])"
      ],
      "metadata": {
        "id": "VxwH2dxTYT2p"
      },
      "execution_count": null,
      "outputs": []
    },
    {
      "cell_type": "code",
      "source": [
        "print(a[1][0])"
      ],
      "metadata": {
        "id": "TZoWHwO8YeBa"
      },
      "execution_count": null,
      "outputs": []
    },
    {
      "cell_type": "code",
      "source": [
        "print(a[:, 0:2])"
      ],
      "metadata": {
        "id": "PnAyfn-zYhIt"
      },
      "execution_count": null,
      "outputs": []
    },
    {
      "cell_type": "markdown",
      "source": [
        "### Filtrado de elementos de un array"
      ],
      "metadata": {
        "id": "lcrw2Z0m78lP"
      }
    },
    {
      "cell_type": "code",
      "source": [
        "a = np.array([[1, 2, 3], [4, 5, 6]])\n",
        "print(a[(a % 2 == 0)])"
      ],
      "metadata": {
        "id": "8AE3fsNL8EtC"
      },
      "execution_count": null,
      "outputs": []
    },
    {
      "cell_type": "code",
      "source": [
        "print(a[(a % 2 == 0) &  (a > 2)])"
      ],
      "metadata": {
        "id": "5PbY7G5f8JU_"
      },
      "execution_count": null,
      "outputs": []
    },
    {
      "cell_type": "markdown",
      "source": [
        "### Operaciones matemáticas con arrays"
      ],
      "metadata": {
        "id": "9yx9EFua8MJX"
      }
    },
    {
      "cell_type": "code",
      "source": [
        "a = np.array([[1, 2, 3], [4, 5, 6]])\n",
        "b = np.array([[1, 1, 1], [2, 2, 2]])"
      ],
      "metadata": {
        "id": "-NrePFXc8PHD"
      },
      "execution_count": null,
      "outputs": []
    },
    {
      "cell_type": "code",
      "source": [
        "print(a + b )"
      ],
      "metadata": {
        "id": "_kFbK9_K8Qrf"
      },
      "execution_count": null,
      "outputs": []
    },
    {
      "cell_type": "code",
      "source": [
        "print(a / b)"
      ],
      "metadata": {
        "id": "qNgHme0V8UIw"
      },
      "execution_count": null,
      "outputs": []
    },
    {
      "cell_type": "code",
      "source": [
        "print(a ** 2)"
      ],
      "metadata": {
        "id": "lG8L6h0r8Vqn"
      },
      "execution_count": null,
      "outputs": []
    },
    {
      "cell_type": "markdown",
      "source": [
        "# 2. Álgebra matricial con arrays"
      ],
      "metadata": {
        "id": "s7k34kfm8X69"
      }
    },
    {
      "cell_type": "markdown",
      "source": [
        "### Producto escalar de dos vectores"
      ],
      "metadata": {
        "id": "j6AAGCRr87wU"
      }
    },
    {
      "cell_type": "markdown",
      "source": [
        "u.dot(v): Devuelve el producto escalar de los vectores u y v.\n",
        "\n"
      ],
      "metadata": {
        "id": "gwuBYeb29Qfh"
      }
    },
    {
      "cell_type": "code",
      "source": [
        "import numpy as np\n",
        "a = np.array([1, 2, 3])\n",
        "b = np.array([1, 0, 1])\n",
        "print(a @ b)"
      ],
      "metadata": {
        "id": "wfdhOaH28ryF"
      },
      "execution_count": null,
      "outputs": []
    },
    {
      "cell_type": "code",
      "source": [
        "print(a.dot(b))"
      ],
      "metadata": {
        "id": "cbsnIrcI8zfo"
      },
      "execution_count": null,
      "outputs": []
    },
    {
      "cell_type": "code",
      "source": [
        "a*b"
      ],
      "metadata": {
        "id": "rV83-Tis9GMa"
      },
      "execution_count": null,
      "outputs": []
    },
    {
      "cell_type": "markdown",
      "source": [
        "### Módulo de un vector"
      ],
      "metadata": {
        "id": "iqUXxB_j9ML1"
      }
    },
    {
      "cell_type": "markdown",
      "source": [
        "norm(v): Devuelve el módulo del vector v."
      ],
      "metadata": {
        "id": "Aq7ECjOp9Pnz"
      }
    },
    {
      "cell_type": "code",
      "source": [
        "a = np.array([3, 4])"
      ],
      "metadata": {
        "id": "P_Lq83--9flL"
      },
      "execution_count": null,
      "outputs": []
    },
    {
      "cell_type": "code",
      "source": [
        "print(np.linalg.norm(a))"
      ],
      "metadata": {
        "id": "CdIAQBEt9hHW"
      },
      "execution_count": null,
      "outputs": []
    },
    {
      "cell_type": "markdown",
      "source": [
        "### Producto de dos matrices"
      ],
      "metadata": {
        "id": "dX-NAWL19tyX"
      }
    },
    {
      "cell_type": "markdown",
      "source": [
        "a.dot(b) : Devuelve el producto matricial de las matrices a y b siempre y cuando sus dimensiones sean compatibles."
      ],
      "metadata": {
        "id": "qYkfLl6J-CLK"
      }
    },
    {
      "cell_type": "code",
      "source": [
        "a = np.array([[1, 2, 3], [4, 5, 6]])\n",
        "b = np.array([[1, 1], [2, 2], [3, 3]])\n",
        "print(a @ b)"
      ],
      "metadata": {
        "id": "5D1PWI3G-EWG"
      },
      "execution_count": null,
      "outputs": []
    },
    {
      "cell_type": "code",
      "source": [
        "print(a.dot(b))"
      ],
      "metadata": {
        "id": "Tzn3MeyH_9fv"
      },
      "execution_count": null,
      "outputs": []
    },
    {
      "cell_type": "markdown",
      "source": [
        "### Matriz traspuesta"
      ],
      "metadata": {
        "id": "5OW9IONI__48"
      }
    },
    {
      "cell_type": "code",
      "source": [
        "np.array([[1, 2, 3], [4, 5, 6]])\n",
        "print(a.T)"
      ],
      "metadata": {
        "id": "NyqB9xjIACUa"
      },
      "execution_count": null,
      "outputs": []
    },
    {
      "cell_type": "markdown",
      "source": [
        "### Traza de una matriz"
      ],
      "metadata": {
        "id": "8TJzLVf5AHf0"
      }
    },
    {
      "cell_type": "markdown",
      "source": [
        "a.trace() : Devuelve la traza (suma de la diagonal principal) de la matriz cuadrada a."
      ],
      "metadata": {
        "id": "HDbLyKgnALVr"
      }
    },
    {
      "cell_type": "code",
      "source": [
        "a = np.array([[1, 2, 3], [4, 5, 6], [7, 8, 9]])\n",
        "print(a.trace())"
      ],
      "metadata": {
        "id": "vCUPvFPYANPk"
      },
      "execution_count": null,
      "outputs": []
    },
    {
      "cell_type": "markdown",
      "source": [
        "### Determinante de una matriz"
      ],
      "metadata": {
        "id": "w6fDKLQxAXr-"
      }
    },
    {
      "cell_type": "markdown",
      "source": [
        "det(a) : Devuelve el determinante de la matriz cuadrada a."
      ],
      "metadata": {
        "id": "N5bWowfWAa1h"
      }
    },
    {
      "cell_type": "code",
      "source": [
        "a = np.array([[1, 2], [3, 4]])\n",
        "print(np.linalg.det(a))"
      ],
      "metadata": {
        "id": "pkqeA5kRAcZn"
      },
      "execution_count": null,
      "outputs": []
    },
    {
      "cell_type": "markdown",
      "source": [
        "### Matriz inversa"
      ],
      "metadata": {
        "id": "7gzecMWTAflX"
      }
    },
    {
      "cell_type": "code",
      "source": [
        "a = np.array([[1, 2], [3, 4]])\n",
        "print(np.linalg.inv(a))"
      ],
      "metadata": {
        "id": "ywNxwmcuAiWO"
      },
      "execution_count": null,
      "outputs": []
    },
    {
      "cell_type": "markdown",
      "source": [
        "### Autovalores de una matriz\n"
      ],
      "metadata": {
        "id": "a6wT5BcrAmUZ"
      }
    },
    {
      "cell_type": "markdown",
      "source": [
        "eigvals(a) : Devuelve los autovalores de la matriz cuadrada a.\n",
        "\n"
      ],
      "metadata": {
        "id": "zSjT_xgsApHW"
      }
    },
    {
      "cell_type": "code",
      "source": [
        "a = np.array([[1, 1, 0], [1, 2, 1], [0, 1, 1]])\n",
        "print(np.linalg.eigvals(a))"
      ],
      "metadata": {
        "id": "4EYOfFehArDo"
      },
      "execution_count": null,
      "outputs": []
    },
    {
      "cell_type": "markdown",
      "source": [
        "### Autovectores de una matriz"
      ],
      "metadata": {
        "id": "fbCg-czaAuCu"
      }
    },
    {
      "cell_type": "markdown",
      "source": [
        "eig(a) : Devuelve los autovalores y los autovectores asociados de la matriz cuadrada a."
      ],
      "metadata": {
        "id": "cAgTS7HOAwyh"
      }
    },
    {
      "cell_type": "code",
      "source": [
        "a = np.array([[1, 1, 0], [1, 2, 1], [0, 1, 1]])\n",
        "print(np.linalg.eig(a))"
      ],
      "metadata": {
        "id": "wC9PixsSAwci"
      },
      "execution_count": null,
      "outputs": []
    },
    {
      "cell_type": "markdown",
      "source": [
        "solve(a, b) : Devuelve la solución del sistema de ecuaciones lineales con los coeficientes de la matriz a y los términos independientes de la matriz b."
      ],
      "metadata": {
        "id": "8EKpELzMA66Q"
      }
    },
    {
      "cell_type": "code",
      "source": [
        "# Sistema de dos ecuaciones y dos incógnitas\n",
        "# x + 2y = 1\n",
        "# 3x + 5y = 2 \n",
        "a = np.array([[1, 2], [3, 5]])\n",
        "b = np.array([1, 2])\n",
        "print(np.linalg.solve(a, b))\n"
      ],
      "metadata": {
        "id": "pBAJWYbJA6JN"
      },
      "execution_count": null,
      "outputs": []
    },
    {
      "cell_type": "markdown",
      "source": [
        "### Solución de un sistema de ecuaciones"
      ],
      "metadata": {
        "id": "k1zOhHr7A2fK"
      }
    },
    {
      "cell_type": "markdown",
      "source": [
        "---\n",
        "\n",
        "# Gracias por completar este laboratorio!\n",
        "\n",
        "---\n"
      ],
      "metadata": {
        "id": "LY_03M0BoJZQ"
      }
    }
  ]
}