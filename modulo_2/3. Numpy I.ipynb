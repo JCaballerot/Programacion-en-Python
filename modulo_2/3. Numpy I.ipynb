{
  "nbformat": 4,
  "nbformat_minor": 0,
  "metadata": {
    "colab": {
      "provenance": [],
      "authorship_tag": "ABX9TyNN7HHfbJpFBgK/TpTmTkDg",
      "include_colab_link": true
    },
    "kernelspec": {
      "name": "python3",
      "display_name": "Python 3"
    },
    "language_info": {
      "name": "python"
    }
  },
  "cells": [
    {
      "cell_type": "markdown",
      "metadata": {
        "id": "view-in-github",
        "colab_type": "text"
      },
      "source": [
        "<a href=\"https://colab.research.google.com/github/JCaballerot/Programacion-en-Python/blob/main/modulo_2/3.%20Numpy%20I.ipynb\" target=\"_parent\"><img src=\"https://colab.research.google.com/assets/colab-badge.svg\" alt=\"Open In Colab\"/></a>"
      ]
    },
    {
      "cell_type": "markdown",
      "source": [
        "<img src=\"https://www.ctic.uni.edu.pe/wp-content/uploads/2022/04/588px-x-348px-web-1.png\" alt=\"HTML5 Icon\" width=\"900\" height=\"350\" >"
      ],
      "metadata": {
        "id": "E_ZHW3fmVS4E"
      }
    },
    {
      "cell_type": "markdown",
      "source": [
        "<h1 align=center><font size = 5> Numpy - Parte I\n",
        "</font></h1>\n",
        "\n",
        "---"
      ],
      "metadata": {
        "id": "11DUCa4NVXVE"
      }
    },
    {
      "cell_type": "markdown",
      "source": [
        "## Tabla de Contenidos\n",
        "\n",
        "<div class=\"alert alert-block alert-info\" style=\"margin-top: 20px\">\n",
        "\n",
        "<font size = 3>\n",
        "    \n",
        "1. <a href=\"#item31\">Trabajando con arrays </a>\n",
        "2. <a href=\"#item31\">Operaciones básicas con arrays</a>  \n",
        "\n",
        "</font>\n",
        "</div>\n",
        "\n",
        "---"
      ],
      "metadata": {
        "id": "y0BfNj-RyguL"
      }
    },
    {
      "cell_type": "markdown",
      "source": [
        "# 1. Trabajando con Arrays "
      ],
      "metadata": {
        "id": "fY5fHyw61UB5"
      }
    },
    {
      "cell_type": "code",
      "source": [
        "#importando numpy\n",
        "import numpy as np"
      ],
      "metadata": {
        "id": "f1NmzUpsUrcj"
      },
      "execution_count": 2,
      "outputs": []
    },
    {
      "cell_type": "code",
      "source": [
        "# Array de una dimensión\n",
        "a1 = np.array([1, 2, 3])\n",
        "print(a1)"
      ],
      "metadata": {
        "id": "SiPNzB73APBU"
      },
      "execution_count": null,
      "outputs": []
    },
    {
      "cell_type": "code",
      "execution_count": null,
      "metadata": {
        "id": "A2OxEnshtGJD"
      },
      "outputs": [],
      "source": [
        "# Array de dos dimensiones\n",
        "a2 = np.array([[1, 2, 3], [4, 5, 6]])\n",
        "print(a2)"
      ]
    },
    {
      "cell_type": "code",
      "source": [
        "# Array de tres dimensiones\n",
        "a3 = np.array([[[1, 2, 3], [4, 5, 6]], [[7, 8, 9], [10, 11, 12]]])\n",
        "print(a3)"
      ],
      "metadata": {
        "id": "BusmC4LB1gI8"
      },
      "execution_count": null,
      "outputs": []
    },
    {
      "cell_type": "markdown",
      "source": [
        "### Otras formas de crear arrays"
      ],
      "metadata": {
        "id": "VcV6mD36V0Ip"
      }
    },
    {
      "cell_type": "code",
      "source": [
        "np.zeros((2, 2))"
      ],
      "metadata": {
        "id": "v4lFhW1sbg_2"
      },
      "execution_count": null,
      "outputs": []
    },
    {
      "cell_type": "code",
      "source": [
        "np.ones((2, 2))"
      ],
      "metadata": {
        "id": "pz_NpJO6brs0"
      },
      "execution_count": null,
      "outputs": []
    },
    {
      "cell_type": "code",
      "source": [
        "np.full((2,2), 10)"
      ],
      "metadata": {
        "id": "7jt7YHcmAahG",
        "outputId": "6504d1d5-43d0-4568-b1da-7fd58328029c",
        "colab": {
          "base_uri": "https://localhost:8080/"
        }
      },
      "execution_count": 13,
      "outputs": [
        {
          "output_type": "execute_result",
          "data": {
            "text/plain": [
              "array([[10, 10],\n",
              "       [10, 10]])"
            ]
          },
          "metadata": {},
          "execution_count": 13
        }
      ]
    },
    {
      "cell_type": "code",
      "source": [
        "np.identity(3)"
      ],
      "metadata": {
        "id": "0ufNgmA_b0M4"
      },
      "execution_count": null,
      "outputs": []
    },
    {
      "cell_type": "code",
      "source": [
        "np.arange(1, 9, 1)"
      ],
      "metadata": {
        "id": "0ZhBiYJuAfJB"
      },
      "execution_count": null,
      "outputs": []
    },
    {
      "cell_type": "code",
      "source": [
        "np.linspace(1, 9, 3)"
      ],
      "metadata": {
        "id": "Gd335gxCAjGa"
      },
      "execution_count": null,
      "outputs": []
    },
    {
      "cell_type": "code",
      "source": [
        "np.random.random((2, 2)) "
      ],
      "metadata": {
        "id": "H5yuZdfkXMym"
      },
      "execution_count": null,
      "outputs": []
    },
    {
      "cell_type": "markdown",
      "source": [
        "### Atributos de un array"
      ],
      "metadata": {
        "id": "0GbfBGic15oY"
      }
    },
    {
      "cell_type": "code",
      "source": [
        "#Devuelve el número de dimensiones del array\n",
        "a.ndim "
      ],
      "metadata": {
        "id": "p4DArzqhCKco"
      },
      "execution_count": null,
      "outputs": []
    },
    {
      "cell_type": "code",
      "source": [
        "#Devuelve una tupla con las dimensiones del array\n",
        "a.shape"
      ],
      "metadata": {
        "id": "ndoPuCOaXhuC"
      },
      "execution_count": null,
      "outputs": []
    },
    {
      "cell_type": "code",
      "source": [
        "#Devuelve el número de elementos del array\n",
        "a.size"
      ],
      "metadata": {
        "id": "76MmfeABXj9I"
      },
      "execution_count": null,
      "outputs": []
    },
    {
      "cell_type": "code",
      "source": [
        "#Devuelve el tipo de datos de los elementos del array\n",
        "a.dtype"
      ],
      "metadata": {
        "id": "iojpwYpIXqvp"
      },
      "execution_count": null,
      "outputs": []
    },
    {
      "cell_type": "markdown",
      "source": [
        "### Acceder a elementos del array"
      ],
      "metadata": {
        "id": "b3Y8iK2rYUNk"
      }
    },
    {
      "cell_type": "code",
      "source": [
        "a = np.array([[1, 2, 3], [4, 5, 6]])\n",
        "print(a[1, 0])"
      ],
      "metadata": {
        "id": "VxwH2dxTYT2p"
      },
      "execution_count": null,
      "outputs": []
    },
    {
      "cell_type": "code",
      "source": [
        "print(a[1][0])"
      ],
      "metadata": {
        "id": "TZoWHwO8YeBa"
      },
      "execution_count": null,
      "outputs": []
    },
    {
      "cell_type": "code",
      "source": [
        "print(a[:, 0:2])"
      ],
      "metadata": {
        "id": "PnAyfn-zYhIt"
      },
      "execution_count": null,
      "outputs": []
    },
    {
      "cell_type": "markdown",
      "source": [
        "---\n",
        "\n",
        "# Gracias por completar este laboratorio!\n",
        "\n",
        "---\n"
      ],
      "metadata": {
        "id": "LY_03M0BoJZQ"
      }
    }
  ]
}